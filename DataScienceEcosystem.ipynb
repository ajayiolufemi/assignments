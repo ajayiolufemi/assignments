{
 "cells": [
  {
   "cell_type": "markdown",
   "id": "24ff7cb3-5886-4ba9-a2cb-c1e77fe0dc9a",
   "metadata": {},
   "source": [
    "# Data Science Tools and Ecosystem"
   ]
  },
  {
   "cell_type": "markdown",
   "id": "8e9e36e4-3fa1-4f6d-95a3-599d63bad635",
   "metadata": {},
   "source": [
    "In this notebook, Data Science Tools and Ecosystem are summarized."
   ]
  },
  {
   "cell_type": "markdown",
   "id": "6ee77a75-154f-45a3-b517-5ecc5ca700aa",
   "metadata": {},
   "source": [
    "**Objectives:**\n",
    "- List popular languages for Data Science\n",
    "- List popular libraries for Data Science\n",
    "- Create a code cell to multiply and add numbers\n",
    "- Create a code cell to convert minutes to hours"
   ]
  },
  {
   "cell_type": "markdown",
   "id": "d03b693c-e3fc-4745-8c7d-7774419f1a4d",
   "metadata": {},
   "source": [
    "Some of the popular languages that Data Scientists use are:\n",
    "1. Python\n",
    "2. R\n",
    "3. SQL\n",
    "4. Julia\n",
    "5. JavaScript\n",
    "6. Java\n"
   ]
  },
  {
   "cell_type": "markdown",
   "id": "e2e5f62b-f72e-4910-bb83-e8e9387a4f4c",
   "metadata": {},
   "source": [
    "Some of the commonly used libraries used by Data Scientists include:\n",
    "1. NumPy\n",
    "2. Pandas\n",
    "3. Matplotlib\n",
    "4. Seaborn\n",
    "5. Plotly\n",
    "6. Scikit-Learn\n",
    "   "
   ]
  },
  {
   "cell_type": "markdown",
   "id": "99e5122f-fa2c-4e8c-bd73-f78788cfe9eb",
   "metadata": {},
   "source": [
    "|Data Science Tools|\n",
    "|------------------|\n",
    "|Jupyter Notebooks|\n",
    "|R Studio|\n",
    "|VS Code|"
   ]
  },
  {
   "cell_type": "markdown",
   "id": "d68486e7-4387-4414-807a-ec0873c66e8d",
   "metadata": {},
   "source": [
    "### Below are a few examples of evaluating arithmetic expressions in Python"
   ]
  },
  {
   "cell_type": "markdown",
   "id": "98537f00-3beb-4d91-a7ff-fb7687a1e43d",
   "metadata": {},
   "source": [
    "_This a simple arithmetic expression to mutiply then add integers_"
   ]
  },
  {
   "cell_type": "code",
   "execution_count": 2,
   "id": "76e807de-6613-419f-9c4b-d89c3da384e6",
   "metadata": {},
   "outputs": [
    {
     "data": {
      "text/plain": [
       "17"
      ]
     },
     "execution_count": 2,
     "metadata": {},
     "output_type": "execute_result"
    }
   ],
   "source": [
    "(3*4)+5"
   ]
  },
  {
   "cell_type": "markdown",
   "id": "801f4b7f-5c38-48ac-8430-7d796b7765ae",
   "metadata": {},
   "source": [
    "_This will convert 200 minutes to hours by diving by 60_"
   ]
  },
  {
   "cell_type": "code",
   "execution_count": 9,
   "id": "753e1ff4-d299-4b8c-b1e5-6c872acc989f",
   "metadata": {},
   "outputs": [
    {
     "name": "stdout",
     "output_type": "stream",
     "text": [
      "3 h 20 m\n"
     ]
    }
   ],
   "source": [
    "minutes_total = 200\n",
    "hours = minutes_total//60\n",
    "minutes = minutes_total-(hours*60)\n",
    "print(hours,'h',minutes,'m')"
   ]
  },
  {
   "cell_type": "markdown",
   "id": "1416ddbf-0749-4cf6-8d5d-d034f2a27058",
   "metadata": {},
   "source": [
    "## Author\n",
    "Olufemi Ajayi-Omolayo"
   ]
  },
  {
   "cell_type": "code",
   "execution_count": null,
   "id": "2052623b-d2fd-44c6-9f39-cc4b358322e4",
   "metadata": {},
   "outputs": [],
   "source": []
  }
 ],
 "metadata": {
  "kernelspec": {
   "display_name": "Python 3 (ipykernel)",
   "language": "python",
   "name": "python3"
  },
  "language_info": {
   "codemirror_mode": {
    "name": "ipython",
    "version": 3
   },
   "file_extension": ".py",
   "mimetype": "text/x-python",
   "name": "python",
   "nbconvert_exporter": "python",
   "pygments_lexer": "ipython3",
   "version": "3.11.7"
  }
 },
 "nbformat": 4,
 "nbformat_minor": 5
}
